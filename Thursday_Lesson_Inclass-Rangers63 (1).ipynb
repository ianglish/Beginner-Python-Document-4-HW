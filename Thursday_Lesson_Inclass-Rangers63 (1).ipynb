{
 "cells": [
  {
   "cell_type": "markdown",
   "metadata": {},
   "source": [
    "# Object-Oriented-Programming (OOP)"
   ]
  },
  {
   "cell_type": "markdown",
   "metadata": {},
   "source": [
    "## Tasks Today:\n",
    "\n",
    "   \n",
    "\n",
    "1) <b>Creating a Class (Initializing/Declaring)</b> <br>\n",
    "2) <b>Using a Class (Instantiating)</b> <br>\n",
    " &nbsp;&nbsp;&nbsp;&nbsp; a) Creating One Instance <br>\n",
    " &nbsp;&nbsp;&nbsp;&nbsp; b) Creating Multiple Instances <br>\n",
    " &nbsp;&nbsp;&nbsp;&nbsp; c) In-Class Exercise #1 - Create a Class 'Car' and instantiate three different makes of cars <br>\n",
    "3) <b>The \\__init\\__() Method</b> <br>\n",
    " &nbsp;&nbsp;&nbsp;&nbsp; a) The 'self' Attribute <br>\n",
    "4) <b>Class Attributes</b> <br>\n",
    " &nbsp;&nbsp;&nbsp;&nbsp; a) Initializing Attributes <br>\n",
    " &nbsp;&nbsp;&nbsp;&nbsp; b) Setting an Attribute Outside of the \\__init\\__() Method <br>\n",
    " &nbsp;&nbsp;&nbsp;&nbsp; c) Setting Defaults for Attributes <br>\n",
    " &nbsp;&nbsp;&nbsp;&nbsp; d) Accessing Class Attributes <br>\n",
    " &nbsp;&nbsp;&nbsp;&nbsp; e) Changing Class Attributes <br>\n",
    " &nbsp;&nbsp;&nbsp;&nbsp; f) In-Class Exercise #2 - Add a color and wheels attribute to your 'Car' class <br>\n",
    "5) <b>Class Methods</b> <br>\n",
    " &nbsp;&nbsp;&nbsp;&nbsp; a) Creating <br>\n",
    " &nbsp;&nbsp;&nbsp;&nbsp; b) Calling <br>\n",
    " &nbsp;&nbsp;&nbsp;&nbsp; c) Modifying an Attribute's Value Through a Method <br>\n",
    " &nbsp;&nbsp;&nbsp;&nbsp; d) Incrementing an Attribute's Value Through a Method <br>\n",
    " &nbsp;&nbsp;&nbsp;&nbsp; e) In-Class Exercise #3 - Add a method that prints the cars color and wheel number, then call them <br>\n",
    "6) <b>Inheritance</b> <br>\n",
    " &nbsp;&nbsp;&nbsp;&nbsp; a) Syntax for Inheriting from a Parent Class <br>\n",
    " &nbsp;&nbsp;&nbsp;&nbsp; b) The \\__init\\__() Method for a Child Class (super()) <br>\n",
    " &nbsp;&nbsp;&nbsp;&nbsp; c) Defining Attributes and Methods for the Child Class <br>\n",
    " &nbsp;&nbsp;&nbsp;&nbsp; d) Method Overriding <br>\n",
    " &nbsp;&nbsp;&nbsp;&nbsp; e) In-Class Exercise #4 - Create a class 'Ford' that inherits from 'Car' class and initialize it as a Blue Ford Explorer with 4 wheels using the super() method <br>\n",
    "7) <b>Classes as Attributes</b> <br>\n",
    "8) <b>Exercises</b> <br>\n",
    " &nbsp;&nbsp;&nbsp;&nbsp; a) Exercise #1 - Turn the shopping cart program from yesterday into an object-oriented program <br>"
   ]
  },
  {
   "cell_type": "markdown",
   "metadata": {},
   "source": [
    "## Creating a Class (Initializing/Declaring)\n",
    "<p>When creating a class, function, or even a variable you are initializing that object. Initializing and Declaring occur at the same time in Python, whereas in lower level languages you have to declare an object before initializing it. This is the first step in the process of using a class.</p>"
   ]
  },
  {
   "cell_type": "code",
   "execution_count": 5,
   "metadata": {},
   "outputs": [],
   "source": [
    "class Car():\n",
    "    wheels = 4\n",
    "    color = 'blue'"
   ]
  },
  {
   "cell_type": "markdown",
   "metadata": {},
   "source": [
    "## Using a Class (Instantiating)\n",
    "<p>The process of creating a class is called <i>Instantiating</i>. Each time you create a variable of that type of class, it is referred to as an <i>Instance</i> of that class. This is the second step in the process of using a class.</p>"
   ]
  },
  {
   "cell_type": "markdown",
   "metadata": {},
   "source": [
    "##### Creating One Instance"
   ]
  },
  {
   "cell_type": "code",
   "execution_count": 7,
   "metadata": {},
   "outputs": [
    {
     "name": "stdout",
     "output_type": "stream",
     "text": [
      "4\n"
     ]
    }
   ],
   "source": [
    "ford = Car()\n",
    "print(ford.wheels)"
   ]
  },
  {
   "cell_type": "markdown",
   "metadata": {},
   "source": [
    "##### Creating Multiple Instances"
   ]
  },
  {
   "cell_type": "code",
   "execution_count": 9,
   "metadata": {},
   "outputs": [
    {
     "name": "stdout",
     "output_type": "stream",
     "text": [
      "<class 'str'>\n"
     ]
    },
    {
     "ename": "AttributeError",
     "evalue": "'Car' object has no attribute 'bumper'",
     "output_type": "error",
     "traceback": [
      "\u001b[0;31m---------------------------------------------------------------------------\u001b[0m",
      "\u001b[0;31mAttributeError\u001b[0m                            Traceback (most recent call last)",
      "Cell \u001b[0;32mIn[9], line 6\u001b[0m\n\u001b[1;32m      3\u001b[0m porsche \u001b[38;5;241m=\u001b[39m Car()\n\u001b[1;32m      5\u001b[0m \u001b[38;5;28mprint\u001b[39m(\u001b[38;5;28mtype\u001b[39m(porsche\u001b[38;5;241m.\u001b[39mcolor))\n\u001b[0;32m----> 6\u001b[0m \u001b[38;5;28mprint\u001b[39m(porsche\u001b[38;5;241m.\u001b[39mbumper)\n",
      "\u001b[0;31mAttributeError\u001b[0m: 'Car' object has no attribute 'bumper'"
     ]
    }
   ],
   "source": [
    "chevy = Car()\n",
    "honda = Car()\n",
    "porsche = Car()\n",
    "\n",
    "print(type(porsche.color))\n",
    "print(porsche.bumper)\n",
    "\n",
    "#This will show an error on purpose below on purpose"
   ]
  },
  {
   "cell_type": "markdown",
   "metadata": {},
   "source": [
    "##### In-Class Exercise #1 - Create a Class 'Car' and Instantiate three different makes of cars"
   ]
  },
  {
   "cell_type": "code",
   "execution_count": 7,
   "metadata": {},
   "outputs": [],
   "source": [
    "class Car():\n",
    "    doors = 4\n",
    "    color = 'gold'\n",
    "    seats = 5\n",
    "\n",
    "toyota = Car()\n",
    "mercedes = Car()\n",
    "tesla = Car()"
   ]
  },
  {
   "cell_type": "markdown",
   "metadata": {},
   "source": [
    "## The \\__init\\__() Method <br>\n",
    "<p>This method is used in almost every created class, and called only once upon the creation of the class instance. This method will initialize all variables needed for the object. It uses double underscores on each side of the word init.</p>"
   ]
  },
  {
   "cell_type": "code",
   "execution_count": 16,
   "metadata": {},
   "outputs": [
    {
     "name": "stdout",
     "output_type": "stream",
     "text": [
      "4\n",
      "6\n"
     ]
    }
   ],
   "source": [
    "class Car():\n",
    "    engine = '4.7L' # <-- constant attribute\n",
    "\n",
    "    def __init__(self, wheels, color):\n",
    "        self.wheels = wheels\n",
    "        self.color = color\n",
    "\n",
    "ford = Car(4, 'red')\n",
    "chevy = Car(6, 'black')\n",
    "\n",
    "print(ford.wheels)\n",
    "print(chevy.wheels)\n"
   ]
  },
  {
   "cell_type": "markdown",
   "metadata": {},
   "source": [
    "##### The 'self' Attribute <br>\n",
    "<p>This attribute is required to keep track of specific instance's attributes. Without the self attribute, the program would not know how to reference or keep track of an instance's attributes.</p>"
   ]
  },
  {
   "cell_type": "code",
   "execution_count": null,
   "metadata": {},
   "outputs": [],
   "source": [
    "# see above"
   ]
  },
  {
   "cell_type": "markdown",
   "metadata": {},
   "source": [
    "## Class Attributes <br>\n",
    "<p>While variables are inside of a class, they are referred to as attributes and not variables. When someone says 'attribute' you know they're speaking about a class. Attributes can be initialized through the init method, or outside of it.</p>"
   ]
  },
  {
   "cell_type": "markdown",
   "metadata": {},
   "source": [
    "##### Initializing Attributes"
   ]
  },
  {
   "cell_type": "code",
   "execution_count": 28,
   "metadata": {},
   "outputs": [],
   "source": [
    "# see above\n",
    "\n",
    "class Toy():\n",
    "    kind = 'car'\n",
    "\n",
    "    def __init__(self, rooftop, horn, wheels = 4):\n",
    "        self.rooftop = rooftop\n",
    "        self.horn = horn\n",
    "        self.wheels = wheels\n",
    "\n",
    "tonka_truck = Toy(1,1) #if not specified, it defaults to 4 wheels for the last variable, based on default value set in method definition\n",
    "hotwheels_car = (2,3,8)\n",
    "\n",
    "my_daily_driver_wheels = 5\n",
    "my_daily_driver_rooftop = 'sunroof'\n",
    "my_daily_driver_horn = 1"
   ]
  },
  {
   "cell_type": "markdown",
   "metadata": {},
   "source": [
    "##### Accessing Class Attributes"
   ]
  },
  {
   "cell_type": "code",
   "execution_count": 64,
   "metadata": {
    "scrolled": true
   },
   "outputs": [
    {
     "name": "stdout",
     "output_type": "stream",
     "text": [
      "1\n",
      "1\n",
      "4\n"
     ]
    }
   ],
   "source": [
    "# See Above\n",
    "print(tonka_truck.rooftop)\n",
    "print(tonka_truck.horn)\n",
    "print(tonka_truck.wheels)"
   ]
  },
  {
   "cell_type": "markdown",
   "metadata": {},
   "source": [
    "##### Setting Defaults for Attributes"
   ]
  },
  {
   "cell_type": "code",
   "execution_count": 9,
   "metadata": {},
   "outputs": [
    {
     "name": "stdout",
     "output_type": "stream",
     "text": [
      "Blue\n",
      "4\n"
     ]
    }
   ],
   "source": [
    "class Car():\n",
    "    engine = '4.7L' # <-- constant attribute\n",
    "\n",
    "    def __init__(self, wheels):\n",
    "        self.wheels = wheels\n",
    "        self.color = 'Blue' # Cant overwrite!\n",
    "\n",
    "honda = Car(4)\n",
    "print(honda.color)\n",
    "print(honda.wheels)"
   ]
  },
  {
   "cell_type": "markdown",
   "metadata": {},
   "source": [
    "##### Changing Class Attributes <br>\n",
    "<p>Keep in mind there are global class attributes and then there are attributes only available to each class instance which won't effect other classes.</p>"
   ]
  },
  {
   "cell_type": "code",
   "execution_count": null,
   "metadata": {},
   "outputs": [],
   "source": [
    "# see above"
   ]
  },
  {
   "cell_type": "code",
   "execution_count": null,
   "metadata": {},
   "outputs": [],
   "source": []
  },
  {
   "cell_type": "markdown",
   "metadata": {},
   "source": [
    "##### In-Class Exercise #2 - Add a doors and seats attribute to your 'Car' class then print out two different instances with different doors and seats"
   ]
  },
  {
   "cell_type": "code",
   "execution_count": 233,
   "metadata": {},
   "outputs": [
    {
     "name": "stdout",
     "output_type": "stream",
     "text": [
      "2\n",
      "2\n",
      "gold\n",
      "4\n",
      "5\n",
      "gold\n"
     ]
    }
   ],
   "source": [
    "class Car():\n",
    "    def __init__(self, seats, doors, color = 'gold'):\n",
    "        self.seats = seats\n",
    "        self.doors = doors\n",
    "        self.color = color\n",
    "tesla = Car(2, 2)\n",
    "print(tesla.seats)\n",
    "print(tesla.doors)\n",
    "print(tesla.color)\n",
    "\n",
    "mercedes = Car(4, 5)\n",
    "print(mercedes.seats)\n",
    "print(mercedes.doors)\n",
    "print(mercedes.color)"
   ]
  },
  {
   "cell_type": "code",
   "execution_count": null,
   "metadata": {},
   "outputs": [],
   "source": []
  },
  {
   "cell_type": "code",
   "execution_count": null,
   "metadata": {},
   "outputs": [],
   "source": []
  },
  {
   "cell_type": "markdown",
   "metadata": {},
   "source": [
    "## Class Methods <br>\n",
    "<p>While inside of a class, functions are referred to as 'methods'. If you hear someone mention methods, they're speaking about classes. Methods are essentially functions, but only callable on the instances of a class.</p>"
   ]
  },
  {
   "cell_type": "markdown",
   "metadata": {},
   "source": [
    "##### Creating"
   ]
  },
  {
   "cell_type": "code",
   "execution_count": 1124,
   "metadata": {},
   "outputs": [],
   "source": [
    "class ShoppingBag():\n",
    "    \"\"\"The ShoppingBag class will have handles, capacity, and items to place inside.\n",
    "    Attributes for the class:\n",
    "    - handles: expected to be an integer\n",
    "    - items: expected to be a list\n",
    "    - capacity: expected to be a integer \"\"\"\n",
    "\n",
    "    def __init__(self, handles, items = [], capacity = 10):\n",
    "        self.handles = handles\n",
    "        self.items = items\n",
    "        self.capacity = capacity\n",
    "\n",
    "    def showShoppingBag(self):\n",
    "        if len(self.items) == 0:\n",
    "            print('You have no items')\n",
    "        else:\n",
    "            print(\"You have items in your bag!!!\" )\n",
    "            for item in self.items:\n",
    "                print(item)\n",
    "\n",
    "    def showCapacity(self):\n",
    "        print(f'Your remaining capacity is: {self.capacity-len(self.items)}')\n",
    "\n",
    "    def addToShoppingBag(self):\n",
    "        if len(self.items) == self.capacity:\n",
    "            print(\"You have no room\")\n",
    "        else:\n",
    "            product = input('What would you like to add?: ')\n",
    "            self.items.append(product)\n",
    "\n",
    "    def showHandles(self):\n",
    "        print(f'You have {self.handles} handles on your bag')\n",
    "\n",
    "    \n",
    "# then run this code so that it exsists       "
   ]
  },
  {
   "cell_type": "markdown",
   "metadata": {},
   "source": [
    "##### Calling"
   ]
  },
  {
   "cell_type": "code",
   "execution_count": null,
   "metadata": {},
   "outputs": [
    {
     "name": "stdin",
     "output_type": "stream",
     "text": [
      "What would you like to do?\n",
      "\n",
      "You may:\n",
      "-Add\n",
      "-Show\n",
      "-Quit\n",
      " add\n",
      "What would you like to add?:  beer\n",
      "What would you like to do?\n",
      "\n",
      "You may:\n",
      "-Add\n",
      "-Show\n",
      "-Quit\n",
      " add\n",
      "What would you like to add?:  ice cream\n",
      "What would you like to do?\n",
      "\n",
      "You may:\n",
      "-Add\n",
      "-Show\n",
      "-Quit\n",
      " show\n",
      "What would you like to see?: \n",
      "-Capacity\n",
      "Handles\n",
      "-Shopping Bag handles\n"
     ]
    },
    {
     "name": "stdout",
     "output_type": "stream",
     "text": [
      "You have 2 handles on your bag\n"
     ]
    }
   ],
   "source": [
    "# See Above\n",
    "# Now we have to instantitate the class(calling/using the class)\n",
    "wholeFoodsBag = ShoppingBag(2)\n",
    "\n",
    "# then run program\n",
    "def run():\n",
    "    while True:\n",
    "        response = input(\"What would you like to do?\\n\\nYou may:\\n-Add\\n-Show\\n-Quit\\n\")\n",
    "        if response.lower() == 'quit':\n",
    "            WholeFoodsBag.showShoppingBag()\n",
    "            print(\"Thanks for shopping\")\n",
    "            break\n",
    "        elif response.lower() == 'add':\n",
    "            wholeFoodsBag.addToShoppingBag()\n",
    "        elif response.lower() == 'show':\n",
    "            showChoice = input(\"What would you like to see?: \\n-Capacity\\nHandles\\n-Shopping Bag\")\n",
    "            if showChoice.lower() == 'capacity':\n",
    "                wholeFoodsBag.showCapacity()\n",
    "            elif showChoice.lower() =='handles':\n",
    "                wholeFoodsBag.showHandles()\n",
    "            else:\n",
    "                wholeFoodsBag.showShoppingBag()\n",
    "        else:\n",
    "            print('That is not a valid option. Please enter add, show, or quit.')\n",
    "\n",
    "run()"
   ]
  },
  {
   "cell_type": "markdown",
   "metadata": {},
   "source": [
    "##### Modifying an Attribute's Value Through a Method"
   ]
  },
  {
   "cell_type": "code",
   "execution_count": null,
   "metadata": {},
   "outputs": [],
   "source": []
  },
  {
   "cell_type": "markdown",
   "metadata": {},
   "source": [
    "##### Incrementing an Attribute's Value Through a Method"
   ]
  },
  {
   "cell_type": "code",
   "execution_count": null,
   "metadata": {},
   "outputs": [],
   "source": []
  },
  {
   "cell_type": "markdown",
   "metadata": {},
   "source": [
    "##### In-Class Exercise #3 - Add a method that takes in three parameters of year, doors and seats and prints out a formatted print statement with make, model, year, seats, and doors"
   ]
  },
  {
   "cell_type": "code",
   "execution_count": 1068,
   "metadata": {},
   "outputs": [
    {
     "name": "stdout",
     "output_type": "stream",
     "text": [
      "<__main__.CarClass object at 0x139ba1b50>\n"
     ]
    }
   ],
   "source": [
    "# Create class with 2 paramters inside of the __init__ which are make and model\n",
    "# Inside of the Car class create a method that has 4 parameter in total (self,year,doors,seats)\n",
    "# Output: This car is from 2019 and is a Ford Expolorer and has 4 doors and 5 seats\n",
    "\n",
    "class CarClass:\n",
    "    def __init__(self,make,model):\n",
    "        self.make = make\n",
    "        self.model = model\n",
    "    \n",
    "    def car_vars(self, year,doors,seats):\n",
    "        self.year = year\n",
    "        self.doors = doors\n",
    "        self.seats = seats\n",
    "        return f'you have a {self.year} {self.make} {self.model}, it has {self.doors} doors and it has {self.seats} seats'\n",
    "    \n",
    "\n",
    "ford = CarClass(\"Ford\",\"Explorer\")\n",
    "\n",
    "ford.car_vars(2019,4,5)\n",
    "\n",
    "print(ford)\n",
    "# I worked with Sarah on this bit of code and we had trouble getting this code to run in Jupyter Notebook, \n",
    "# but she and I found the code to be totally correct"
   ]
  },
  {
   "cell_type": "markdown",
   "metadata": {},
   "source": [
    "## Inheritance <br>\n",
    "<p>You can create a child-parent relationship between two classes by using inheritance. What this allows you to do is have overriding methods, but also inherit traits from the parent class. Think of it as an actual parent and child, the child will inherit the parent's genes, as will the classes in OOP</p>"
   ]
  },
  {
   "cell_type": "markdown",
   "metadata": {},
   "source": [
    "##### Syntax for Inheriting from a Parent Class"
   ]
  },
  {
   "cell_type": "code",
   "execution_count": null,
   "metadata": {},
   "outputs": [],
   "source": []
  },
  {
   "cell_type": "markdown",
   "metadata": {},
   "source": [
    "##### The \\__init\\__() Method for a Child Class - super()"
   ]
  },
  {
   "cell_type": "code",
   "execution_count": null,
   "metadata": {
    "scrolled": true
   },
   "outputs": [],
   "source": []
  },
  {
   "cell_type": "markdown",
   "metadata": {},
   "source": [
    "##### Defining Attributes and Methods for the Child Class"
   ]
  },
  {
   "cell_type": "code",
   "execution_count": null,
   "metadata": {},
   "outputs": [],
   "source": [
    "# See Above"
   ]
  },
  {
   "cell_type": "markdown",
   "metadata": {},
   "source": [
    "##### Method Overriding"
   ]
  },
  {
   "cell_type": "code",
   "execution_count": null,
   "metadata": {},
   "outputs": [],
   "source": [
    "# See Above"
   ]
  },
  {
   "cell_type": "markdown",
   "metadata": {},
   "source": [
    "## Classes as Attributes <br>\n",
    "<p>Classes can also be used as attributes within another class. This is useful in situations where you need to keep variables locally stored, instead of globally stored.</p>"
   ]
  },
  {
   "cell_type": "code",
   "execution_count": null,
   "metadata": {},
   "outputs": [],
   "source": []
  },
  {
   "cell_type": "markdown",
   "metadata": {},
   "source": [
    "# Exercises"
   ]
  },
  {
   "cell_type": "markdown",
   "metadata": {},
   "source": [
    "### Exercise 1 - Turn the shopping cart program from yesterday into an object-oriented program\n",
    "\n",
    "The comments in the cell below are there as a guide for thinking about the problem. However, if you feel a different way is best for you and your own thought process, please do what feels best for you by all means."
   ]
  },
  {
   "cell_type": "code",
   "execution_count": 976,
   "metadata": {},
   "outputs": [
    {
     "name": "stdin",
     "output_type": "stream",
     "text": [
      "What would you like to do with your cart? \n",
      "\t-Add: type add\n",
      "\t-Remove: to remove\n",
      "\t-Show: type show\n",
      "\t-Quit: type quit add\n",
      "What would you like to add to your cart?:  pen\n",
      "What would you like to do with your cart? \n",
      "\t-Add: type add\n",
      "\t-Remove: to remove\n",
      "\t-Show: type show\n",
      "\t-Quit: type quit add\n",
      "What would you like to add to your cart?:  computer\n",
      "What would you like to do with your cart? \n",
      "\t-Add: type add\n",
      "\t-Remove: to remove\n",
      "\t-Show: type show\n",
      "\t-Quit: type quit add\n",
      "What would you like to add to your cart?:  keyboard\n",
      "What would you like to do with your cart? \n",
      "\t-Add: type add\n",
      "\t-Remove: to remove\n",
      "\t-Show: type show\n",
      "\t-Quit: type quit show\n"
     ]
    },
    {
     "name": "stdout",
     "output_type": "stream",
     "text": [
      "['pen', 'computer', 'keyboard']\n"
     ]
    },
    {
     "name": "stdin",
     "output_type": "stream",
     "text": [
      "What would you like to do with your cart? \n",
      "\t-Add: type add\n",
      "\t-Remove: to remove\n",
      "\t-Show: type show\n",
      "\t-Quit: type quit remove\n",
      "What item would you like to remove?:  pen\n",
      "What would you like to do with your cart? \n",
      "\t-Add: type add\n",
      "\t-Remove: to remove\n",
      "\t-Show: type show\n",
      "\t-Quit: type quit show\n"
     ]
    },
    {
     "name": "stdout",
     "output_type": "stream",
     "text": [
      "['computer', 'keyboard']\n"
     ]
    },
    {
     "name": "stdin",
     "output_type": "stream",
     "text": [
      "What would you like to do with your cart? \n",
      "\t-Add: type add\n",
      "\t-Remove: to remove\n",
      "\t-Show: type show\n",
      "\t-Quit: type quit quit\n"
     ]
    },
    {
     "name": "stdout",
     "output_type": "stream",
     "text": [
      "Program ending\n"
     ]
    }
   ],
   "source": [
    "\n",
    "#class Cart():\n",
    "#    pass\n",
    "\n",
    "# Create a class called cart that retains items and has methods to add, remove, and show\n",
    "class ShoppingCart():\n",
    "    \"\"\"A class called ShoppingCart that retains items and has methods that to add, remove and show items.\"\"\"\n",
    "    def __init__(self, cart = []):\n",
    "        self.cart = cart\n",
    "\n",
    "    def addingToCart(self):\n",
    "        product = input(\"What would you like to add to your cart?: \")\n",
    "        self.cart.append(product)\n",
    "    \n",
    "    def removeItem(self):\n",
    "        itemToRemove = input(\"What item would you like to remove?: \")\n",
    "        if itemToRemove not in self.cart:\n",
    "            print(\"This item is not in your cart!\")\n",
    "        else:\n",
    "            self.cart.remove(itemToRemove)\n",
    "   \n",
    "    def showCart(self):\n",
    "        print(self.cart)\n",
    "\n",
    "\n",
    "#Instantiating an object called 'myCart'\n",
    "myCart = ShoppingCart()\n",
    "\n",
    "#Creating a program called cartProgram that uses the object myCart\n",
    "def cartProgram():\n",
    "    while True:\n",
    "        userInput = input(\"What would you like to do with your cart? \\n\\t-Add: type add\\n\\t-Remove: to remove\\n\\t-Show: type show\\n\\t-Quit: type quit\")\n",
    "        if userInput.lower() == 'quit':\n",
    "            print(\"Program ending\")\n",
    "            break\n",
    "        elif userInput.lower() == 'add':\n",
    "            myCart.addingToCart()\n",
    "        elif userInput.lower() == 'remove':\n",
    "            myCart.removeItem()\n",
    "        elif userInput.lower() == 'show':\n",
    "            myCart.showCart()\n",
    "        else:\n",
    "            print(\"Not a applicable action\")\n",
    "                \n",
    "#Calling the program cartProgram\n",
    "cartProgram()\n",
    "            "
   ]
  },
  {
   "cell_type": "markdown",
   "metadata": {},
   "source": [
    "### Exercise 2 - Write a Python class which has two methods get_String and print_String. get_String accept a string from the user and print_String print the string in upper case"
   ]
  },
  {
   "cell_type": "code",
   "execution_count": 1114,
   "metadata": {},
   "outputs": [
    {
     "name": "stdin",
     "output_type": "stream",
     "text": [
      "What would you like to print in uppercase?:  meow\n"
     ]
    },
    {
     "name": "stdout",
     "output_type": "stream",
     "text": [
      "MEOW\n"
     ]
    }
   ],
   "source": [
    "class String():\n",
    "    \"\"\"This class accepts a string from the user and then prints that accepted string in upper case.\"\"\"\n",
    "    def __init__(self, userInput = \"\"):\n",
    "        self.userInput = userInput\n",
    "\n",
    "    def getUserInput(self):\n",
    "        self.userInput = input(\"What would you like to print in uppercase?: \")\n",
    "\n",
    "    def printUPPERCASE(self):\n",
    "        print(self.userInput.upper())\n",
    "\n",
    "userString = String(\"\")\n",
    "\n",
    "def printUserInputUPPERCASE():\n",
    "    userString.getUserInput()\n",
    "    userString.printUPPERCASE()\n",
    "\n",
    "printUserInputUPPERCASE()"
   ]
  }
 ],
 "metadata": {
  "kernelspec": {
   "display_name": "Python 3 (ipykernel)",
   "language": "python",
   "name": "python3"
  },
  "language_info": {
   "codemirror_mode": {
    "name": "ipython",
    "version": 3
   },
   "file_extension": ".py",
   "mimetype": "text/x-python",
   "name": "python",
   "nbconvert_exporter": "python",
   "pygments_lexer": "ipython3",
   "version": "3.11.7"
  }
 },
 "nbformat": 4,
 "nbformat_minor": 4
}
